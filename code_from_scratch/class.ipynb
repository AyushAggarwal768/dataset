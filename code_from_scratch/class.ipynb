{
 "cells": [
  {
   "cell_type": "code",
   "execution_count": 19,
   "metadata": {},
   "outputs": [
    {
     "name": "stdout",
     "output_type": "stream",
     "text": [
      "ABC SCHOOL\n",
      "Ayush\n",
      "6\n"
     ]
    }
   ],
   "source": [
    "class school:\n",
    "    def __init__(self):\n",
    "        print(\"ABC SCHOOL\")\n",
    "    def student(self):\n",
    "        print(\"Ayush\")\n",
    "    def st_class(self):\n",
    "        print(\"6\")\n",
    "    k=school()\n",
    "    k.student()\n",
    "    k.st_class()"
   ]
  },
  {
   "cell_type": "code",
   "execution_count": 3,
   "metadata": {},
   "outputs": [],
   "source": [
    "class human:\n",
    "    def __init__(self,age,name):\n",
    "        self.age=age\n",
    "        self.name=name\n",
    "        print(self.name)\n",
    "    def information(self):\n",
    "        print(\"name is\",self.name,\"age is\",self.age)\n",
    "       "
   ]
  },
  {
   "cell_type": "code",
   "execution_count": 5,
   "metadata": {},
   "outputs": [
    {
     "name": "stdout",
     "output_type": "stream",
     "text": [
      "Ayush\n",
      "name is Ayush age is 21\n"
     ]
    }
   ],
   "source": [
    "k=human(21,\"Ayush\")\n",
    "k.information()"
   ]
  },
  {
   "cell_type": "code",
   "execution_count": 9,
   "metadata": {},
   "outputs": [
    {
     "name": "stdout",
     "output_type": "stream",
     "text": [
      "Ashu\n",
      "name is Ashu age is 22\n"
     ]
    }
   ],
   "source": [
    "b=human(22,\"Ashu\")\n",
    "b.information()"
   ]
  },
  {
   "cell_type": "markdown",
   "metadata": {},
   "source": [
    "### calculate lcm and multiply it with a number"
   ]
  },
  {
   "cell_type": "code",
   "execution_count": 86,
   "metadata": {},
   "outputs": [],
   "source": [
    "class cal:\n",
    "    def __init__(self,x,y):\n",
    "        self.x=x\n",
    "        self.y=y\n",
    "        \n",
    "        print(self.x)\n",
    "        print(self.y)\n",
    "        \n",
    "        \n",
    "    def lcm(self):\n",
    "        if(self.x>self.y):\n",
    "            z=self.x\n",
    "        else:\n",
    "            z=self.y\n",
    "        p=self.x*self.y\n",
    "        p=p+1\n",
    "        for i in range(z,p):\n",
    "            if(i%self.x==0)&(i%self.y==0):\n",
    "                self.d=i\n",
    "                return(self.d)\n",
    "                break\n",
    "            \n",
    "    def multi(self,b):\n",
    "        self.b=b\n",
    "        a=self.d*self.b\n",
    "        print(a)\n",
    "        \n"
   ]
  },
  {
   "cell_type": "code",
   "execution_count": 87,
   "metadata": {},
   "outputs": [
    {
     "name": "stdout",
     "output_type": "stream",
     "text": [
      "4\n",
      "5\n"
     ]
    }
   ],
   "source": [
    "z1=cal(4,5)"
   ]
  },
  {
   "cell_type": "code",
   "execution_count": 88,
   "metadata": {},
   "outputs": [
    {
     "data": {
      "text/plain": [
       "20"
      ]
     },
     "execution_count": 88,
     "metadata": {},
     "output_type": "execute_result"
    }
   ],
   "source": [
    "z1.lcm()"
   ]
  },
  {
   "cell_type": "code",
   "execution_count": 89,
   "metadata": {},
   "outputs": [
    {
     "name": "stdout",
     "output_type": "stream",
     "text": [
      "100\n"
     ]
    }
   ],
   "source": [
    "z1.multi(5)"
   ]
  },
  {
   "cell_type": "code",
   "execution_count": 15,
   "metadata": {},
   "outputs": [],
   "source": [
    "class a:\n",
    "     def __init__(self,x,y,l):\n",
    "        self.x=x\n",
    "        self.y=y\n",
    "        self.l=l\n",
    "        \n",
    "        print(self.x)\n",
    "        print(self.y)\n",
    "        print(self.l)\n",
    "        \n",
    "         \n",
    "     def lcm(self):\n",
    "         if(self.x>self.y):\n",
    "             z=self.x\n",
    "         else:\n",
    "             z=self.y\n",
    "         p=self.x*self.y\n",
    "         p=p+1\n",
    "         for i in range(z,p):\n",
    "             if(i%self.x==0)&(i%self.y==0):\n",
    "                 self.d=i\n",
    "                 print(self.d)\n",
    "                 break\n",
    "     def hcf(self,k):\n",
    "         if(self.x>self.y):\n",
    "             self.k=self.x\n",
    "         else:\n",
    "             self.k=self.y\n",
    "         while(self.k>0):\n",
    "             if(self.x%k==0)&(self.y%k==0):\n",
    "                 self.j=self.k\n",
    "             print(self.j)\n",
    "             break\n",
    "     def compare(self):\n",
    "        if(self.d<self.l)&(self.j<self.l):\n",
    "            print(\"given value is bigger than lcm and hcf\")\n",
    "        elif(self.d>self.l)&(self.j>self.l):\n",
    "            print(\"given vale is smaller than lcm and hcf\")\n",
    "        elif(self.d<self.l):\n",
    "            print(\"number is bigger than lcm\")\n",
    "        elif(self.d>self.l):\n",
    "            print(\"\")\n",
    "        elif(self.j<self.l):\n",
    "            print(\"\")\n",
    "        elif(self.j>self.l):\n",
    "            print(\"\")\n",
    "        else:\n",
    "            pass\n",
    "        "
   ]
  },
  {
   "cell_type": "code",
   "execution_count": 16,
   "metadata": {},
   "outputs": [
    {
     "name": "stdout",
     "output_type": "stream",
     "text": [
      "4\n",
      "5\n",
      "6\n"
     ]
    }
   ],
   "source": [
    "z1=a(4,5,6)"
   ]
  },
  {
   "cell_type": "code",
   "execution_count": 17,
   "metadata": {},
   "outputs": [
    {
     "name": "stdout",
     "output_type": "stream",
     "text": [
      "20\n"
     ]
    }
   ],
   "source": [
    "z1.lcm()"
   ]
  },
  {
   "cell_type": "code",
   "execution_count": 18,
   "metadata": {},
   "outputs": [
    {
     "ename": "TypeError",
     "evalue": "hcf() missing 1 required positional argument: 'k'",
     "output_type": "error",
     "traceback": [
      "\u001b[1;31m---------------------------------------------------------------------------\u001b[0m",
      "\u001b[1;31mTypeError\u001b[0m                                 Traceback (most recent call last)",
      "\u001b[1;32m<ipython-input-18-7df5d6b141ff>\u001b[0m in \u001b[0;36m<module>\u001b[1;34m\u001b[0m\n\u001b[1;32m----> 1\u001b[1;33m \u001b[0mz1\u001b[0m\u001b[1;33m.\u001b[0m\u001b[0mhcf\u001b[0m\u001b[1;33m(\u001b[0m\u001b[1;33m)\u001b[0m\u001b[1;33m\u001b[0m\u001b[1;33m\u001b[0m\u001b[0m\n\u001b[0m",
      "\u001b[1;31mTypeError\u001b[0m: hcf() missing 1 required positional argument: 'k'"
     ]
    }
   ],
   "source": [
    "z1.hcf()"
   ]
  },
  {
   "cell_type": "code",
   "execution_count": null,
   "metadata": {},
   "outputs": [],
   "source": []
  }
 ],
 "metadata": {
  "kernelspec": {
   "display_name": "Python 3",
   "language": "python",
   "name": "python3"
  },
  "language_info": {
   "codemirror_mode": {
    "name": "ipython",
    "version": 3
   },
   "file_extension": ".py",
   "mimetype": "text/x-python",
   "name": "python",
   "nbconvert_exporter": "python",
   "pygments_lexer": "ipython3",
   "version": "3.7.3"
  }
 },
 "nbformat": 4,
 "nbformat_minor": 2
}
